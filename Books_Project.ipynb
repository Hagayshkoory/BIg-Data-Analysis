{
  "cells": [
    {
      "cell_type": "markdown",
      "metadata": {
        "id": "suKvCwg4UYHB"
      },
      "source": [
        "#**Big Data Project - BookCrossing** 📚"
      ]
    },
    {
      "cell_type": "markdown",
      "metadata": {
        "id": "0c_nTQ_hraYv"
      },
      "source": [
        "###**Preparing work environment**"
      ]
    },
    {
      "cell_type": "code",
      "execution_count": null,
      "metadata": {
        "colab": {
          "base_uri": "https://localhost:8080/"
        },
        "id": "cJ87YIYkVLKt",
        "outputId": "4753a873-22ff-48b5-d99f-ee76ad63f35e"
      },
      "outputs": [
        {
          "output_type": "stream",
          "name": "stdout",
          "text": [
            "Hit:1 http://archive.ubuntu.com/ubuntu bionic InRelease\n",
            "Get:2 http://archive.ubuntu.com/ubuntu bionic-updates InRelease [88.7 kB]\n",
            "Get:3 https://cloud.r-project.org/bin/linux/ubuntu bionic-cran40/ InRelease [3,626 B]\n",
            "Ign:4 https://developer.download.nvidia.com/compute/cuda/repos/ubuntu1804/x86_64  InRelease\n",
            "Get:5 http://security.ubuntu.com/ubuntu bionic-security InRelease [88.7 kB]\n",
            "Get:6 http://archive.ubuntu.com/ubuntu bionic-backports InRelease [74.6 kB]\n",
            "Ign:7 https://developer.download.nvidia.com/compute/machine-learning/repos/ubuntu1804/x86_64  InRelease\n",
            "Get:8 https://developer.download.nvidia.com/compute/cuda/repos/ubuntu1804/x86_64  Release [696 B]\n",
            "Hit:9 https://developer.download.nvidia.com/compute/machine-learning/repos/ubuntu1804/x86_64  Release\n",
            "Get:10 https://developer.download.nvidia.com/compute/cuda/repos/ubuntu1804/x86_64  Release.gpg [836 B]\n",
            "Get:11 http://ppa.launchpad.net/c2d4u.team/c2d4u4.0+/ubuntu bionic InRelease [15.9 kB]\n",
            "Hit:12 http://ppa.launchpad.net/cran/libgit2/ubuntu bionic InRelease\n",
            "Get:13 https://cloud.r-project.org/bin/linux/ubuntu bionic-cran40/ Packages [82.3 kB]\n",
            "Get:14 http://ppa.launchpad.net/deadsnakes/ppa/ubuntu bionic InRelease [15.9 kB]\n",
            "Get:15 http://archive.ubuntu.com/ubuntu bionic-updates/universe amd64 Packages [2,268 kB]\n",
            "Get:16 http://ppa.launchpad.net/graphics-drivers/ppa/ubuntu bionic InRelease [21.3 kB]\n",
            "Get:17 http://archive.ubuntu.com/ubuntu bionic-updates/main amd64 Packages [3,133 kB]\n",
            "Get:18 http://archive.ubuntu.com/ubuntu bionic-updates/multiverse amd64 Packages [29.8 kB]\n",
            "Get:19 http://archive.ubuntu.com/ubuntu bionic-updates/restricted amd64 Packages [918 kB]\n",
            "Get:20 http://archive.ubuntu.com/ubuntu bionic-backports/universe amd64 Packages [12.9 kB]\n",
            "Get:21 http://archive.ubuntu.com/ubuntu bionic-backports/main amd64 Packages [12.2 kB]\n",
            "Get:23 https://developer.download.nvidia.com/compute/cuda/repos/ubuntu1804/x86_64  Packages [952 kB]\n",
            "Get:24 http://ppa.launchpad.net/c2d4u.team/c2d4u4.0+/ubuntu bionic/main Sources [1,906 kB]\n",
            "Get:25 http://security.ubuntu.com/ubuntu bionic-security/universe amd64 Packages [1,490 kB]\n",
            "Get:26 http://security.ubuntu.com/ubuntu bionic-security/main amd64 Packages [2,694 kB]\n",
            "Get:27 http://security.ubuntu.com/ubuntu bionic-security/restricted amd64 Packages [884 kB]\n",
            "Get:28 http://ppa.launchpad.net/c2d4u.team/c2d4u4.0+/ubuntu bionic/main amd64 Packages [974 kB]\n",
            "Get:29 http://ppa.launchpad.net/deadsnakes/ppa/ubuntu bionic/main amd64 Packages [45.3 kB]\n",
            "Get:30 http://ppa.launchpad.net/graphics-drivers/ppa/ubuntu bionic/main amd64 Packages [44.3 kB]\n",
            "Fetched 15.8 MB in 5s (3,499 kB/s)\n",
            "Reading package lists... Done\n",
            "Building dependency tree       \n",
            "Reading state information... Done\n",
            "97 packages can be upgraded. Run 'apt list --upgradable' to see them.\n"
          ]
        }
      ],
      "source": [
        "!apt update\n",
        "!apt-get install openjdk-8-jdk-headless -qq > /dev/null \n",
        "!wget -q https://downloads.apache.org/spark/spark-3.1.2/spark-3.1.2-bin-hadoop3.2.tgz\n",
        "!tar xf spark-3.1.2-bin-hadoop3.2.tgz\n",
        "!pip install -q findspark "
      ]
    },
    {
      "cell_type": "code",
      "execution_count": null,
      "metadata": {
        "id": "0YqGSdNuWXYE"
      },
      "outputs": [],
      "source": [
        "import os\n",
        "os.environ[\"JAVA_HOME\"] = \"/usr/lib/jvm/java-8-openjdk-amd64\"\n",
        "os.environ[\"SPARK_HOME\"] = \"/content/spark-3.1.2-bin-hadoop3.2\""
      ]
    },
    {
      "cell_type": "code",
      "execution_count": null,
      "metadata": {
        "id": "RKOYivvKWYZa"
      },
      "outputs": [],
      "source": [
        "import findspark\n",
        "findspark.init(\"spark-3.1.2-bin-hadoop3.2\")\n",
        "\n",
        "from pyspark.sql import SparkSession\n",
        "\n",
        "spark = SparkSession.builder.master(\"local[*]\").getOrCreate()\n",
        "\n",
        "from pyspark.sql import Row\n",
        "from pyspark.sql import functions as f\n",
        "from pyspark.sql.types import IntegerType, DecimalType, StringType"
      ]
    },
    {
      "cell_type": "markdown",
      "metadata": {
        "id": "DQdCpS0iubcm"
      },
      "source": [
        "Connecting google drive to colab notebook"
      ]
    },
    {
      "cell_type": "code",
      "execution_count": null,
      "metadata": {
        "colab": {
          "base_uri": "https://localhost:8080/"
        },
        "id": "Tiopi4K3WoVy",
        "outputId": "640a7bb5-cad3-4cfa-fa9b-eaa3e9f652c3"
      },
      "outputs": [
        {
          "output_type": "stream",
          "name": "stdout",
          "text": [
            "Mounted at /content/drive\n"
          ]
        }
      ],
      "source": [
        "from google.colab import drive\n",
        "drive.mount('/content/drive')"
      ]
    },
    {
      "cell_type": "markdown",
      "metadata": {
        "id": "yHoWekV2utMm"
      },
      "source": [
        "**Read Data**"
      ]
    },
    {
      "cell_type": "code",
      "execution_count": null,
      "metadata": {
        "id": "_yJ9zO00WqPW"
      },
      "outputs": [],
      "source": [
        "data_path = \"/content/drive/MyDrive/Big Data/Big Data Project\"\n",
        "Bx_Users = data_path + \"/\" + \"BX-Users.csv\"\n",
        "Bx_Books = data_path + \"/\" + \"BX-Books.csv\"\n",
        "Bx_Ratings = data_path + \"/\" + \"BX-Book-Ratings.csv\""
      ]
    },
    {
      "cell_type": "markdown",
      "metadata": {
        "id": "QGZYnWPfvjgp"
      },
      "source": [
        "**Creating Data Frames for each data file**\\\n",
        "(including countries file for data cleansing in the location column of users' file)"
      ]
    },
    {
      "cell_type": "code",
      "execution_count": null,
      "metadata": {
        "id": "PNJ-EEE3viRh"
      },
      "outputs": [],
      "source": [
        "Dim_Users = spark.read.csv(Bx_Users, sep=\";\", header=True, inferSchema=True, encoding=\"ISO-8859-1\")\n",
        "Dim_Books = spark.read.csv(Bx_Books, sep=\";\", header=True, inferSchema=True, encoding=\"ISO-8859-1\")"
      ]
    },
    {
      "cell_type": "markdown",
      "source": [
        "Fact_Ratings - the file containing several separators between fields, must be replaced before being imported."
      ],
      "metadata": {
        "id": "tn4yGobOkRn9"
      }
    },
    {
      "cell_type": "code",
      "source": [
        "def parsingInput(line):\n",
        "    fileds_data = []\n",
        "\n",
        "    fields = line.split(\";\")\n",
        "    for field in fields:\n",
        "      field = field.replace('\"', '')\n",
        "      field = field.replace(',', '')\n",
        "      field = field.replace('\\n', '')\n",
        "      fileds_data.append(field)\n",
        "    \n",
        "    return fileds_data\n",
        "\n",
        "columns = []\n",
        "fileds_data = []\n",
        "\n",
        "with open(Bx_Ratings, mode='r', encoding=\"ISO-8859-1\") as file:\n",
        "  columns = parsingInput(file.readline())\n",
        "  other_lines = file.readlines()\n",
        "file.close()\n",
        "\n",
        "for line in other_lines:\n",
        "  fileds_data.append(parsingInput(line))\n",
        "\n",
        "Fact_Ratings = spark.createDataFrame(fileds_data, columns)"
      ],
      "metadata": {
        "id": "JVDH-fwykPKC"
      },
      "execution_count": null,
      "outputs": []
    },
    {
      "cell_type": "markdown",
      "metadata": {
        "id": "Qe66iDlotY_w"
      },
      "source": [
        "###**Data Cleansing**"
      ]
    },
    {
      "cell_type": "markdown",
      "metadata": {
        "id": "I6EnYKv-Ietp"
      },
      "source": [
        "**Dim_Users**"
      ]
    },
    {
      "cell_type": "code",
      "execution_count": null,
      "metadata": {
        "colab": {
          "base_uri": "https://localhost:8080/"
        },
        "id": "a4sFWEPTIoFZ",
        "outputId": "8fbd4bb5-3036-40db-df40-df7a8ef62ea1"
      },
      "outputs": [
        {
          "output_type": "stream",
          "name": "stdout",
          "text": [
            "root\n",
            " |-- User-ID: string (nullable = true)\n",
            " |-- Location: string (nullable = true)\n",
            " |-- Age: string (nullable = true)\n",
            "\n"
          ]
        }
      ],
      "source": [
        "Dim_Users.printSchema()"
      ]
    },
    {
      "cell_type": "code",
      "execution_count": null,
      "metadata": {
        "colab": {
          "base_uri": "https://localhost:8080/"
        },
        "id": "-wLnmm3e9Fa-",
        "outputId": "1a316270-74df-43a5-fb90-cae9999df58e"
      },
      "outputs": [
        {
          "output_type": "stream",
          "name": "stdout",
          "text": [
            "+-------+--------------------+----+\n",
            "|User-ID|            Location| Age|\n",
            "+-------+--------------------+----+\n",
            "|      1|  nyc, new york, usa|NULL|\n",
            "|      2|stockton, califor...|  18|\n",
            "|      3|moscow, yukon ter...|NULL|\n",
            "|      4|porto, v.n.gaia, ...|  17|\n",
            "|      5|farnborough, hant...|NULL|\n",
            "|      6|santa monica, cal...|  61|\n",
            "|      7| washington, dc, usa|NULL|\n",
            "|      8|timmins, ontario,...|NULL|\n",
            "|      9|germantown, tenne...|NULL|\n",
            "|     10|albacete, wiscons...|  26|\n",
            "|     11|melbourne, victor...|  14|\n",
            "|     12|fort bragg, calif...|NULL|\n",
            "|     13|barcelona, barcel...|  26|\n",
            "|     14|mediapolis, iowa,...|NULL|\n",
            "|     15|calgary, alberta,...|NULL|\n",
            "|     16|albuquerque, new ...|NULL|\n",
            "|     17|chesapeake, virgi...|NULL|\n",
            "|     18|rio de janeiro, r...|  25|\n",
            "|     19|           weston, ,|  14|\n",
            "|     20|langhorne, pennsy...|  19|\n",
            "+-------+--------------------+----+\n",
            "only showing top 20 rows\n",
            "\n"
          ]
        }
      ],
      "source": [
        "Dim_Users.show()"
      ]
    },
    {
      "cell_type": "code",
      "source": [
        "Dim_Users.count()"
      ],
      "metadata": {
        "colab": {
          "base_uri": "https://localhost:8080/"
        },
        "id": "uVcIrS0hNck5",
        "outputId": "a7b999f3-96ef-4fa7-e810-278b43571683"
      },
      "execution_count": null,
      "outputs": [
        {
          "output_type": "execute_result",
          "data": {
            "text/plain": [
              "278859"
            ]
          },
          "metadata": {},
          "execution_count": 11
        }
      ]
    },
    {
      "cell_type": "code",
      "source": [
        "Dim_Users=Dim_Users.withColumnRenamed('User-ID','UserID')"
      ],
      "metadata": {
        "id": "NQZOHv9c3xcq"
      },
      "execution_count": null,
      "outputs": []
    },
    {
      "cell_type": "markdown",
      "source": [
        "Converting dataframe columns to lowercase"
      ],
      "metadata": {
        "id": "bAYFSfFy_YA6"
      }
    },
    {
      "cell_type": "code",
      "execution_count": null,
      "metadata": {
        "colab": {
          "base_uri": "https://localhost:8080/"
        },
        "id": "5nMlIwp8nEQ9",
        "outputId": "317425b6-089f-47d6-f318-1d33513e7975"
      },
      "outputs": [
        {
          "output_type": "stream",
          "name": "stdout",
          "text": [
            "+------+--------------------+----+\n",
            "|UserID|            Location| Age|\n",
            "+------+--------------------+----+\n",
            "|     1|  nyc, new york, usa|null|\n",
            "|     2|stockton, califor...|  18|\n",
            "|     3|moscow, yukon ter...|null|\n",
            "|     4|porto, v.n.gaia, ...|  17|\n",
            "|     5|farnborough, hant...|null|\n",
            "|     6|santa monica, cal...|  61|\n",
            "|     7| washington, dc, usa|null|\n",
            "|     8|timmins, ontario,...|null|\n",
            "|     9|germantown, tenne...|null|\n",
            "|    10|albacete, wiscons...|  26|\n",
            "|    11|melbourne, victor...|  14|\n",
            "|    12|fort bragg, calif...|null|\n",
            "|    13|barcelona, barcel...|  26|\n",
            "|    14|mediapolis, iowa,...|null|\n",
            "|    15|calgary, alberta,...|null|\n",
            "|    16|albuquerque, new ...|null|\n",
            "|    17|chesapeake, virgi...|null|\n",
            "|    18|rio de janeiro, r...|  25|\n",
            "|    19|           weston, ,|  14|\n",
            "|    20|langhorne, pennsy...|  19|\n",
            "+------+--------------------+----+\n",
            "only showing top 20 rows\n",
            "\n"
          ]
        }
      ],
      "source": [
        "for c in Dim_Users.columns:\n",
        "  Dim_Users=Dim_Users.select(\"*\", f.lower(Dim_Users[c]))\n",
        "  Dim_Users = Dim_Users.drop(c)\n",
        "  Dim_Users = Dim_Users.withColumnRenamed('lower('+c+')', c)\n",
        "\n",
        "Dim_Users.show()"
      ]
    },
    {
      "cell_type": "markdown",
      "source": [
        "Converting datatypes"
      ],
      "metadata": {
        "id": "ZxKjQaXGIZpC"
      }
    },
    {
      "cell_type": "code",
      "execution_count": null,
      "metadata": {
        "id": "VuO15uiwpe3j",
        "colab": {
          "base_uri": "https://localhost:8080/"
        },
        "outputId": "d5017299-f184-49b7-99de-dd7e03d964f9"
      },
      "outputs": [
        {
          "output_type": "execute_result",
          "data": {
            "text/plain": [
              "[('UserID', 'int'), ('Location', 'string'), ('Age', 'decimal(10,0)')]"
            ]
          },
          "metadata": {},
          "execution_count": 14
        }
      ],
      "source": [
        "Dim_Users = Dim_Users.withColumn('UserID', Dim_Users.UserID.cast(IntegerType()))\n",
        "Dim_Users = Dim_Users.withColumn('Age', Dim_Users.Age.cast(DecimalType()))\n",
        "\n",
        "Dim_Users.dtypes"
      ]
    },
    {
      "cell_type": "markdown",
      "metadata": {
        "id": "-ZnjEZVQKP9X"
      },
      "source": [
        "**Location column** - splitting the column to three columns: city, region, & country"
      ]
    },
    {
      "cell_type": "code",
      "execution_count": null,
      "metadata": {
        "id": "jDbMC12RhlGg"
      },
      "outputs": [],
      "source": [
        "split_location = f.split(Dim_Users.Location, ',')\n",
        "Dim_Users = Dim_Users.withColumn('UserCity', split_location.getItem(0))\n",
        "Dim_Users = Dim_Users.withColumn('UserRegion', split_location.getItem(1))\n",
        "Dim_Users = Dim_Users.withColumn('UserCountry', split_location.getItem(2))\n",
        "Dim_Users = Dim_Users.drop('Location')"
      ]
    },
    {
      "cell_type": "markdown",
      "source": [
        "Cleaning punctuation in location columns"
      ],
      "metadata": {
        "id": "7ntBA3w1790M"
      }
    },
    {
      "cell_type": "code",
      "execution_count": null,
      "metadata": {
        "id": "HugsgwgZTrrg"
      },
      "outputs": [],
      "source": [
        "punc_regex = '''(^ |\\!|\\(|\\)|-|\\[|\\]|\\{|\\}|;|:|,|'|\"|\\<|\\>|\\.|\\/|\\?|@|�|#|\\$|%|\\^|\\&|\\*|_|~|\\d| $)'''\n",
        "\n",
        "Dim_Users=Dim_Users.withColumn('UserCity', f.regexp_replace('UserCity', punc_regex, ''))\n",
        "Dim_Users=Dim_Users.withColumn('UserRegion', f.regexp_replace('UserRegion', punc_regex, ''))\n",
        "Dim_Users=Dim_Users.withColumn('UserCountry', f.regexp_replace('UserCountry', punc_regex, ''))"
      ]
    },
    {
      "cell_type": "markdown",
      "source": [
        "Finding cells with a null value and empty cells in all columns"
      ],
      "metadata": {
        "id": "VAMNZdkD_pSz"
      }
    },
    {
      "cell_type": "code",
      "execution_count": null,
      "metadata": {
        "colab": {
          "base_uri": "https://localhost:8080/"
        },
        "id": "lDFY0vDEkUQh",
        "outputId": "f682d8ff-ee98-4399-aef6-93682bd72d2e"
      },
      "outputs": [
        {
          "output_type": "stream",
          "name": "stdout",
          "text": [
            "+------+------+--------+----------+-----------+\n",
            "|UserID|   Age|UserCity|UserRegion|UserCountry|\n",
            "+------+------+--------+----------+-----------+\n",
            "|     1|110763|     327|      4022|       4641|\n",
            "+------+------+--------+----------+-----------+\n",
            "\n"
          ]
        }
      ],
      "source": [
        "Dim_Users.select([f.count(f.when(f.col(c).contains('None') |\\\n",
        "                                 f.col(c).contains('NULL') | \\\n",
        "                                 (f.col(c) == '' ) | \\\n",
        "                                 (f.col(c) == ' ' ) | \\\n",
        "                                 f.col(c).isNull() | \\\n",
        "                                 f.isnan(c), c)).alias(c) for c in Dim_Users.columns]).show()"
      ]
    },
    {
      "cell_type": "markdown",
      "metadata": {
        "id": "BEWzj3awB2wl"
      },
      "source": [
        "Age Coulmn - handling unusable values for analysis\n"
      ]
    },
    {
      "cell_type": "code",
      "execution_count": null,
      "metadata": {
        "colab": {
          "base_uri": "https://localhost:8080/"
        },
        "id": "SWxoC5OqEbuZ",
        "outputId": "4ab893c7-3f1f-4384-bcf3-be99a415be62"
      },
      "outputs": [
        {
          "output_type": "stream",
          "name": "stdout",
          "text": [
            "+-------+-----------------+\n",
            "|summary|              Age|\n",
            "+-------+-----------------+\n",
            "|  count|           168096|\n",
            "|   mean|          34.7514|\n",
            "| stddev|14.42809738245543|\n",
            "|    min|                0|\n",
            "|    max|              244|\n",
            "+-------+-----------------+\n",
            "\n"
          ]
        }
      ],
      "source": [
        "Dim_Users.describe([\"Age\"]).show()"
      ]
    },
    {
      "cell_type": "markdown",
      "source": [
        "Transforming the age column's unusable values"
      ],
      "metadata": {
        "id": "E0eTRQOoA8zg"
      }
    },
    {
      "cell_type": "code",
      "execution_count": null,
      "metadata": {
        "id": "V-iPHBqoBOMP"
      },
      "outputs": [],
      "source": [
        "Dim_Users = Dim_Users.withColumn(\"Age\", f.when((Dim_Users.Age > 100)|(Dim_Users.Age<10)|(Dim_Users[\"Age\"].isNull()),-1).otherwise(Dim_Users.Age))"
      ]
    },
    {
      "cell_type": "markdown",
      "source": [
        "Verifying transformation"
      ],
      "metadata": {
        "id": "HYdEak4rBMMw"
      }
    },
    {
      "cell_type": "code",
      "execution_count": null,
      "metadata": {
        "colab": {
          "base_uri": "https://localhost:8080/"
        },
        "id": "nLRGzmLXCBYc",
        "outputId": "81a557f3-f1d6-484a-e478-106e4dec5268"
      },
      "outputs": [
        {
          "output_type": "execute_result",
          "data": {
            "text/plain": [
              "0"
            ]
          },
          "metadata": {},
          "execution_count": 20
        }
      ],
      "source": [
        "Dim_Users.registerTempTable(\"Users\")\n",
        "spark.sql('select * from Users where (Age is null or Age>100 or Age<10) and Age>-1').count()"
      ]
    },
    {
      "cell_type": "code",
      "source": [
        "Dim_Users.select([f.count(f.when(f.col(c).contains('None') |\\\n",
        "                                 f.col(c).contains('NULL') | \\\n",
        "                                 (f.col(c) == '' ) | \\\n",
        "                                 (f.col(c) == ' ' ) | \\\n",
        "                                 f.col(c).isNull() | \\\n",
        "                                 f.isnan(c), c)).alias(c) for c in Dim_Users.columns]).show()"
      ],
      "metadata": {
        "colab": {
          "base_uri": "https://localhost:8080/"
        },
        "id": "oEP-0VE98kBZ",
        "outputId": "afdf89b8-63a0-4b16-89fe-fe1f05e6d1df"
      },
      "execution_count": null,
      "outputs": [
        {
          "output_type": "stream",
          "name": "stdout",
          "text": [
            "+------+---+--------+----------+-----------+\n",
            "|UserID|Age|UserCity|UserRegion|UserCountry|\n",
            "+------+---+--------+----------+-----------+\n",
            "|     1|  0|     327|      4022|       4641|\n",
            "+------+---+--------+----------+-----------+\n",
            "\n"
          ]
        }
      ]
    },
    {
      "cell_type": "markdown",
      "metadata": {
        "id": "ghxlWFtbK3mu"
      },
      "source": [
        "The result shows a singal row with a null for UserID column - finding it"
      ]
    },
    {
      "cell_type": "code",
      "source": [
        "Dim_Users.filter(f.col('UserID').contains('None') | \\\n",
        "                            f.col('UserID').contains('NULL') | \\\n",
        "                            (f.col('UserID') == '' ) | \\\n",
        "                            (f.col('UserID') == ' ' ) | \\\n",
        "                            f.col('UserID').isNull() | \\\n",
        "                            f.isnan('UserID')).show()"
      ],
      "metadata": {
        "colab": {
          "base_uri": "https://localhost:8080/"
        },
        "id": "hJ6E9nVt-7ju",
        "outputId": "36fa3403-bd9e-434c-c37a-9d2e9fbe396f"
      },
      "execution_count": null,
      "outputs": [
        {
          "output_type": "stream",
          "name": "stdout",
          "text": [
            "+------+---+--------+----------+-----------+\n",
            "|UserID|Age|UserCity|UserRegion|UserCountry|\n",
            "+------+---+--------+----------+-----------+\n",
            "|  null| -1|    null|      null|       null|\n",
            "+------+---+--------+----------+-----------+\n",
            "\n"
          ]
        }
      ]
    },
    {
      "cell_type": "markdown",
      "source": [
        "Due to there is no data, we are dropping the row"
      ],
      "metadata": {
        "id": "xiZOWR28-t5i"
      }
    },
    {
      "cell_type": "code",
      "execution_count": null,
      "metadata": {
        "id": "-qs-IA4SilB4"
      },
      "outputs": [],
      "source": [
        "Dim_Users=Dim_Users.filter(f.col('UserID').isNotNull())"
      ]
    },
    {
      "cell_type": "markdown",
      "source": [
        "**UserCity column** - handling unusable values for analysis"
      ],
      "metadata": {
        "id": "NF6Y9B4Vg-28"
      }
    },
    {
      "cell_type": "code",
      "source": [
        "Dim_Users.sort(Dim_Users.UserCity.desc()).show()"
      ],
      "metadata": {
        "colab": {
          "base_uri": "https://localhost:8080/"
        },
        "id": "0Gqk65vCAbAW",
        "outputId": "70670851-daaa-41fa-dcfc-b141e2096fec"
      },
      "execution_count": null,
      "outputs": [
        {
          "output_type": "stream",
          "name": "stdout",
          "text": [
            "+------+---+--------+---------------+-----------+\n",
            "|UserID|Age|UserCity|     UserRegion|UserCountry|\n",
            "+------+---+--------+---------------+-----------+\n",
            "|184164| 30|   ýzmýr|             na|     turkey|\n",
            "|268024| 27|   ýzmir|    connecticut|     turkey|\n",
            "|278595| -1|   ýzmir|             na|     turkey|\n",
            "|106234| 20|   ýzmir|             na|     turkey|\n",
            "|188910| -1|   ýzmir|             na|     turkey|\n",
            "|  6162| 25|   ýzmir|             na|     turkey|\n",
            "| 19675| -1|ýstanbul|             na|     turkey|\n",
            "| 82759| 25|ýstanbul|       ýstanbul|     turkey|\n",
            "| 42853| -1|ýstanbul|             uk|     turkey|\n",
            "|274464| 25|ýstanbul|       ýstanbul|     turkey|\n",
            "| 14246| -1|ýstanbul|             na|     turkey|\n",
            "|125152| -1|ýstanbul|             na|     turkey|\n",
            "| 36095| -1|ýstanbul|             na|     turkey|\n",
            "| 79393| -1|ýstanbul|        ontario|     turkey|\n",
            "| 36670| -1|ýstanbul| marmara region|     turkey|\n",
            "|218117| 25|ýstanbul|             na|     turkey|\n",
            "|221792| -1|ýstanbul|        marmara|     turkey|\n",
            "|243277| 32|ýstanbul|ýstanbulanadolu|     turkey|\n",
            "|127747| -1|ýstanbul|marmara bölgesi|     turkey|\n",
            "|275148| -1|ýstanbul|         alaska|           |\n",
            "+------+---+--------+---------------+-----------+\n",
            "only showing top 20 rows\n",
            "\n"
          ]
        }
      ]
    },
    {
      "cell_type": "code",
      "source": [
        "Dim_Users = Dim_Users.withColumn(\"UserCity\", f.when(Dim_Users.UserCity=='na','unknown').otherwise(Dim_Users.UserCity))"
      ],
      "metadata": {
        "id": "3ioxVrRuBTP0"
      },
      "execution_count": null,
      "outputs": []
    },
    {
      "cell_type": "code",
      "source": [
        "Dim_Users = Dim_Users.withColumn(\"UserCity\",f.when((Dim_Users[\"UserCity\"] == '')|(Dim_Users[\"UserCity\"] == ' '),'unknown').otherwise(f.col(\"UserCity\")))\n",
        "\n",
        "Dim_Users.filter(Dim_Users['UserCity'].like (\"\")|Dim_Users['UserCity'].like (\" \")).count()"
      ],
      "metadata": {
        "colab": {
          "base_uri": "https://localhost:8080/"
        },
        "id": "YDbVal-Cfup6",
        "outputId": "594bc89a-32c6-48d1-be72-4d86d943883f"
      },
      "execution_count": null,
      "outputs": [
        {
          "output_type": "execute_result",
          "data": {
            "text/plain": [
              "0"
            ]
          },
          "metadata": {},
          "execution_count": 26
        }
      ]
    },
    {
      "cell_type": "markdown",
      "source": [
        "**UserRegion column** - handling unusable values for analysis"
      ],
      "metadata": {
        "id": "iszAFj9MjVHd"
      }
    },
    {
      "cell_type": "code",
      "source": [
        "Dim_Users = Dim_Users.withColumn(\"UserRegion\", f.when(Dim_Users.UserRegion=='na','unknown').otherwise(Dim_Users.UserRegion))"
      ],
      "metadata": {
        "id": "YGsl-QAzC5Pm"
      },
      "execution_count": null,
      "outputs": []
    },
    {
      "cell_type": "code",
      "source": [
        "Dim_Users = Dim_Users.withColumn(\"UserRegion\",f.when((Dim_Users[\"UserRegion\"] == '')|(Dim_Users[\"UserRegion\"] == ' '),'unknown').otherwise(f.col(\"UserRegion\")))\n",
        "\n",
        "Dim_Users.filter(Dim_Users['UserRegion'].like (\"\")|Dim_Users['UserRegion'].like (\" \")).count()"
      ],
      "metadata": {
        "colab": {
          "base_uri": "https://localhost:8080/"
        },
        "id": "cYb_g4DCjUA4",
        "outputId": "bcb03478-45f0-4abc-ba34-ecbb6fae3b50"
      },
      "execution_count": null,
      "outputs": [
        {
          "output_type": "execute_result",
          "data": {
            "text/plain": [
              "0"
            ]
          },
          "metadata": {},
          "execution_count": 28
        }
      ]
    },
    {
      "cell_type": "markdown",
      "source": [
        "**UserCountry column**"
      ],
      "metadata": {
        "id": "hHi_Neh7Ju3W"
      }
    },
    {
      "cell_type": "markdown",
      "source": [
        "Downloading \"countries\" file from GITHUB"
      ],
      "metadata": {
        "id": "RixYUQ_wFxtQ"
      }
    },
    {
      "cell_type": "code",
      "source": [
        "! wget \"https://raw.githubusercontent.com/lukes/ISO-3166-Countries-with-Regional-Codes/master/all/all.csv\""
      ],
      "metadata": {
        "colab": {
          "base_uri": "https://localhost:8080/"
        },
        "id": "qlO5bOSLFijs",
        "outputId": "1d0d92a6-4445-4d30-d853-ec13ad9f1b39"
      },
      "execution_count": null,
      "outputs": [
        {
          "output_type": "stream",
          "name": "stdout",
          "text": [
            "--2022-04-11 15:18:00--  https://raw.githubusercontent.com/lukes/ISO-3166-Countries-with-Regional-Codes/master/all/all.csv\n",
            "Resolving raw.githubusercontent.com (raw.githubusercontent.com)... 185.199.110.133, 185.199.108.133, 185.199.111.133, ...\n",
            "Connecting to raw.githubusercontent.com (raw.githubusercontent.com)|185.199.110.133|:443... connected.\n",
            "HTTP request sent, awaiting response... 200 OK\n",
            "Length: 20759 (20K) [text/plain]\n",
            "Saving to: ‘all.csv’\n",
            "\n",
            "\rall.csv               0%[                    ]       0  --.-KB/s               \rall.csv             100%[===================>]  20.27K  --.-KB/s    in 0s      \n",
            "\n",
            "2022-04-11 15:18:00 (103 MB/s) - ‘all.csv’ saved [20759/20759]\n",
            "\n"
          ]
        }
      ]
    },
    {
      "cell_type": "code",
      "source": [
        "countries = spark.read.format(\"csv\").option(\"inferSchema\",True).option(\"header\", True).option(\"encoding\",\"ISO-8859-1\").csv('/content/all.csv')\n",
        "countries.show()"
      ],
      "metadata": {
        "colab": {
          "base_uri": "https://localhost:8080/"
        },
        "id": "x9Id4SzGF_7q",
        "outputId": "a2cd29c0-a273-4d85-83cb-f0857aad197f"
      },
      "execution_count": null,
      "outputs": [
        {
          "output_type": "stream",
          "name": "stdout",
          "text": [
            "+-------------------+-------+-------+------------+-------------+--------+--------------------+-------------------+-----------+---------------+------------------------+\n",
            "|               name|alpha-2|alpha-3|country-code|   iso_3166-2|  region|          sub-region|intermediate-region|region-code|sub-region-code|intermediate-region-code|\n",
            "+-------------------+-------+-------+------------+-------------+--------+--------------------+-------------------+-----------+---------------+------------------------+\n",
            "|        Afghanistan|     AF|    AFG|           4|ISO 3166-2:AF|    Asia|       Southern Asia|               null|        142|             34|                    null|\n",
            "|     Ãland Islands|     AX|    ALA|         248|ISO 3166-2:AX|  Europe|     Northern Europe|               null|        150|            154|                    null|\n",
            "|            Albania|     AL|    ALB|           8|ISO 3166-2:AL|  Europe|     Southern Europe|               null|        150|             39|                    null|\n",
            "|            Algeria|     DZ|    DZA|          12|ISO 3166-2:DZ|  Africa|     Northern Africa|               null|          2|             15|                    null|\n",
            "|     American Samoa|     AS|    ASM|          16|ISO 3166-2:AS| Oceania|           Polynesia|               null|          9|             61|                    null|\n",
            "|            Andorra|     AD|    AND|          20|ISO 3166-2:AD|  Europe|     Southern Europe|               null|        150|             39|                    null|\n",
            "|             Angola|     AO|    AGO|          24|ISO 3166-2:AO|  Africa|  Sub-Saharan Africa|      Middle Africa|          2|            202|                      17|\n",
            "|           Anguilla|     AI|    AIA|         660|ISO 3166-2:AI|Americas|Latin America and...|          Caribbean|         19|            419|                      29|\n",
            "|         Antarctica|     AQ|    ATA|          10|ISO 3166-2:AQ|    null|                null|               null|       null|           null|                    null|\n",
            "|Antigua and Barbuda|     AG|    ATG|          28|ISO 3166-2:AG|Americas|Latin America and...|          Caribbean|         19|            419|                      29|\n",
            "|          Argentina|     AR|    ARG|          32|ISO 3166-2:AR|Americas|Latin America and...|      South America|         19|            419|                       5|\n",
            "|            Armenia|     AM|    ARM|          51|ISO 3166-2:AM|    Asia|        Western Asia|               null|        142|            145|                    null|\n",
            "|              Aruba|     AW|    ABW|         533|ISO 3166-2:AW|Americas|Latin America and...|          Caribbean|         19|            419|                      29|\n",
            "|          Australia|     AU|    AUS|          36|ISO 3166-2:AU| Oceania|Australia and New...|               null|          9|             53|                    null|\n",
            "|            Austria|     AT|    AUT|          40|ISO 3166-2:AT|  Europe|      Western Europe|               null|        150|            155|                    null|\n",
            "|         Azerbaijan|     AZ|    AZE|          31|ISO 3166-2:AZ|    Asia|        Western Asia|               null|        142|            145|                    null|\n",
            "|            Bahamas|     BS|    BHS|          44|ISO 3166-2:BS|Americas|Latin America and...|          Caribbean|         19|            419|                      29|\n",
            "|            Bahrain|     BH|    BHR|          48|ISO 3166-2:BH|    Asia|        Western Asia|               null|        142|            145|                    null|\n",
            "|         Bangladesh|     BD|    BGD|          50|ISO 3166-2:BD|    Asia|       Southern Asia|               null|        142|             34|                    null|\n",
            "|           Barbados|     BB|    BRB|          52|ISO 3166-2:BB|Americas|Latin America and...|          Caribbean|         19|            419|                      29|\n",
            "+-------------------+-------+-------+------------+-------------+--------+--------------------+-------------------+-----------+---------------+------------------------+\n",
            "only showing top 20 rows\n",
            "\n"
          ]
        }
      ]
    },
    {
      "cell_type": "code",
      "source": [
        "countries = countries.drop('country-code','iso_3166-2','region','sub-region','intermediate-region','region-code','sub-region-code','intermediate-region-code')\n",
        "countries.show()"
      ],
      "metadata": {
        "colab": {
          "base_uri": "https://localhost:8080/"
        },
        "id": "x03ySRwsGAGQ",
        "outputId": "9cd9c4d4-2c1e-41d8-bbc8-a3d282cb7681"
      },
      "execution_count": null,
      "outputs": [
        {
          "output_type": "stream",
          "name": "stdout",
          "text": [
            "+-------------------+-------+-------+\n",
            "|               name|alpha-2|alpha-3|\n",
            "+-------------------+-------+-------+\n",
            "|        Afghanistan|     AF|    AFG|\n",
            "|     Ãland Islands|     AX|    ALA|\n",
            "|            Albania|     AL|    ALB|\n",
            "|            Algeria|     DZ|    DZA|\n",
            "|     American Samoa|     AS|    ASM|\n",
            "|            Andorra|     AD|    AND|\n",
            "|             Angola|     AO|    AGO|\n",
            "|           Anguilla|     AI|    AIA|\n",
            "|         Antarctica|     AQ|    ATA|\n",
            "|Antigua and Barbuda|     AG|    ATG|\n",
            "|          Argentina|     AR|    ARG|\n",
            "|            Armenia|     AM|    ARM|\n",
            "|              Aruba|     AW|    ABW|\n",
            "|          Australia|     AU|    AUS|\n",
            "|            Austria|     AT|    AUT|\n",
            "|         Azerbaijan|     AZ|    AZE|\n",
            "|            Bahamas|     BS|    BHS|\n",
            "|            Bahrain|     BH|    BHR|\n",
            "|         Bangladesh|     BD|    BGD|\n",
            "|           Barbados|     BB|    BRB|\n",
            "+-------------------+-------+-------+\n",
            "only showing top 20 rows\n",
            "\n"
          ]
        }
      ]
    },
    {
      "cell_type": "markdown",
      "source": [
        "Converting countries' data frame columns to lowercase"
      ],
      "metadata": {
        "id": "nYOspGZWDTp2"
      }
    },
    {
      "cell_type": "code",
      "execution_count": null,
      "metadata": {
        "colab": {
          "base_uri": "https://localhost:8080/"
        },
        "id": "tgbX0NoAPPTV",
        "outputId": "1de619d3-3d31-4a42-b6e0-b7426083711c"
      },
      "outputs": [
        {
          "output_type": "stream",
          "name": "stdout",
          "text": [
            "+-------+-------+-------------------+\n",
            "|alpha-2|alpha-3|               name|\n",
            "+-------+-------+-------------------+\n",
            "|     af|    afg|        afghanistan|\n",
            "|     ax|    ala|     ãland islands|\n",
            "|     al|    alb|            albania|\n",
            "|     dz|    dza|            algeria|\n",
            "|     as|    asm|     american samoa|\n",
            "|     ad|    and|            andorra|\n",
            "|     ao|    ago|             angola|\n",
            "|     ai|    aia|           anguilla|\n",
            "|     aq|    ata|         antarctica|\n",
            "|     ag|    atg|antigua and barbuda|\n",
            "|     ar|    arg|          argentina|\n",
            "|     am|    arm|            armenia|\n",
            "|     aw|    abw|              aruba|\n",
            "|     au|    aus|          australia|\n",
            "|     at|    aut|            austria|\n",
            "|     az|    aze|         azerbaijan|\n",
            "|     bs|    bhs|            bahamas|\n",
            "|     bh|    bhr|            bahrain|\n",
            "|     bd|    bgd|         bangladesh|\n",
            "|     bb|    brb|           barbados|\n",
            "+-------+-------+-------------------+\n",
            "only showing top 20 rows\n",
            "\n"
          ]
        }
      ],
      "source": [
        "for c in countries.columns:\n",
        "  countries=countries.select(\"*\", f.lower(countries[c]))\n",
        "  countries = countries.drop(c)\n",
        "  countries = countries.withColumnRenamed('lower('+c+')', c)\n",
        "\n",
        "countries.show()"
      ]
    },
    {
      "cell_type": "markdown",
      "source": [
        "Generating lists from countries' dataframe columns"
      ],
      "metadata": {
        "id": "ML1poOiZkdhD"
      }
    },
    {
      "cell_type": "code",
      "execution_count": null,
      "metadata": {
        "id": "pR5SSJF0cun8"
      },
      "outputs": [],
      "source": [
        "countryname = countries.select('name').collect()\n",
        "alpha2 = countries.select('alpha-2').collect()\n",
        "alpha3 = countries.select('alpha-3').collect()"
      ]
    },
    {
      "cell_type": "markdown",
      "source": [
        "Generating a dictionary of correct countries, from the countries file, as the  keys with found countries, from Dim_Users, as the values"
      ],
      "metadata": {
        "id": "A9qxtJzFEEEn"
      }
    },
    {
      "cell_type": "code",
      "execution_count": null,
      "metadata": {
        "colab": {
          "base_uri": "https://localhost:8080/"
        },
        "id": "Dp_z6Xbec37V",
        "outputId": "f6c284b3-4c24-46ea-c48d-029f1c53a445"
      },
      "outputs": [
        {
          "output_type": "execute_result",
          "data": {
            "text/plain": [
              "dict_keys(['united states of america', 'unknown', 'namibia', 'germany', 'canada', 'panama', 'china', 'ukraine', 'ghana', 'azerbaijan', 'united kingdom of great britain and northern ireland', 'puerto rico', 'malaysia', 'indonesia', 'tunisia', 'kazakhstan', 'new zealand', 'india', 'bosnia and herzegovina', 'israel', 'netherlands', 'holy see'])"
            ]
          },
          "metadata": {},
          "execution_count": 35
        }
      ],
      "source": [
        "usercountries = Dim_Users.select('UserCountry').collect()\n",
        "\n",
        "newCountries = {}\n",
        "for i,country in enumerate(usercountries):\n",
        "  if country in countryname:\n",
        "    continue\n",
        "  elif country in alpha2:\n",
        "    index = alpha2.index(country)\n",
        "    selectedCountry = countryname[index][0]\n",
        "  elif country in alpha3:\n",
        "    index = alpha3.index(country)\n",
        "    selectedCountry = countryname[index][0]\n",
        "  else: \n",
        "    selectedCountry = 'unknown'\n",
        "\n",
        "  if (selectedCountry in newCountries.keys()):\n",
        "    newCountries[selectedCountry].add(country[0])\n",
        "  else:\n",
        "    newCountries[selectedCountry] = { country[0] }\n",
        "\n",
        "\n",
        "newCountries.keys()"
      ]
    },
    {
      "cell_type": "markdown",
      "source": [
        "Updating UserCountry column with newCountries dictionary"
      ],
      "metadata": {
        "id": "prdFHCt-Bin5"
      }
    },
    {
      "cell_type": "code",
      "source": [
        "condition = f.when(f.col('UserCountry').isNull(), 'unknown')\n",
        "\n",
        "for country in newCountries.keys():\n",
        "  optionalVariations = list(newCountries[country])\n",
        "  condition = condition.when(f.col('UserCountry').isin(optionalVariations), country)\n",
        "\n",
        "condition = condition.otherwise(f.col('UserCountry'))\n",
        "Dim_Users = Dim_Users.withColumn('UserCountry', condition)\n",
        "\n",
        "\n",
        "Dim_Users.show()\n"
      ],
      "metadata": {
        "colab": {
          "base_uri": "https://localhost:8080/"
        },
        "id": "Q5nY8Zs0u_J_",
        "outputId": "6e1e8b80-be65-436c-9044-a5731c7f3b26"
      },
      "execution_count": null,
      "outputs": [
        {
          "output_type": "stream",
          "name": "stdout",
          "text": [
            "+------+---+--------------+---------------+--------------------+\n",
            "|UserID|Age|      UserCity|     UserRegion|         UserCountry|\n",
            "+------+---+--------------+---------------+--------------------+\n",
            "|     1| -1|           nyc|       new york|united states of ...|\n",
            "|     2| 18|      stockton|     california|united states of ...|\n",
            "|     3| -1|        moscow|yukon territory|             unknown|\n",
            "|     4| 17|         porto|         vngaia|            portugal|\n",
            "|     5| -1|   farnborough|          hants|             unknown|\n",
            "|     6| 61|  santa monica|     california|united states of ...|\n",
            "|     7| -1|    washington|             dc|united states of ...|\n",
            "|     8| -1|       timmins|        ontario|              canada|\n",
            "|     9| -1|    germantown|      tennessee|united states of ...|\n",
            "|    10| 26|      albacete|      wisconsin|               spain|\n",
            "|    11| 14|     melbourne|       victoria|           australia|\n",
            "|    12| -1|    fort bragg|     california|united states of ...|\n",
            "|    13| 26|     barcelona|      barcelona|               spain|\n",
            "|    14| -1|    mediapolis|           iowa|united states of ...|\n",
            "|    15| -1|       calgary|        alberta|              canada|\n",
            "|    16| -1|   albuquerque|     new mexico|united states of ...|\n",
            "|    17| -1|    chesapeake|       virginia|united states of ...|\n",
            "|    18| 25|rio de janeiro| rio de janeiro|              brazil|\n",
            "|    19| 14|        weston|        unknown|             unknown|\n",
            "|    20| 19|     langhorne|   pennsylvania|united states of ...|\n",
            "+------+---+--------------+---------------+--------------------+\n",
            "only showing top 20 rows\n",
            "\n"
          ]
        }
      ]
    },
    {
      "cell_type": "markdown",
      "source": [
        "Checking duplicates"
      ],
      "metadata": {
        "id": "x3ZM95J6Ihnc"
      }
    },
    {
      "cell_type": "code",
      "execution_count": null,
      "metadata": {
        "id": "NwPNDFARlHrj",
        "colab": {
          "base_uri": "https://localhost:8080/"
        },
        "outputId": "43762bbe-50e1-4023-e47a-70efd74d0821"
      },
      "outputs": [
        {
          "output_type": "stream",
          "name": "stdout",
          "text": [
            "+------------------------+\n",
            "|sum(Duplicate_indicator)|\n",
            "+------------------------+\n",
            "|                       0|\n",
            "+------------------------+\n",
            "\n"
          ]
        }
      ],
      "source": [
        "dup = Dim_Users.join(\n",
        "    Dim_Users.groupBy(Dim_Users.columns).agg((f.count(\"*\")>1).cast(IntegerType()).alias(\"Duplicate_indicator\")),\n",
        "    on=Dim_Users.columns,\n",
        "    how=\"inner\")\n",
        "\n",
        "dup.select(f.sum(\"Duplicate_indicator\")).show()"
      ]
    },
    {
      "cell_type": "markdown",
      "metadata": {
        "id": "b05K55TclRNw"
      },
      "source": [
        "**Dim_Books**"
      ]
    },
    {
      "cell_type": "code",
      "execution_count": null,
      "metadata": {
        "colab": {
          "base_uri": "https://localhost:8080/"
        },
        "id": "Ilvzisdahljn",
        "outputId": "82929781-1290-4920-eaea-68fc343c3f51"
      },
      "outputs": [
        {
          "output_type": "stream",
          "name": "stdout",
          "text": [
            "root\n",
            " |-- ISBN: string (nullable = true)\n",
            " |-- Book-Title: string (nullable = true)\n",
            " |-- Book-Author: string (nullable = true)\n",
            " |-- Year-Of-Publication: integer (nullable = true)\n",
            " |-- Publisher: string (nullable = true)\n",
            " |-- Image-URL-S: string (nullable = true)\n",
            " |-- Image-URL-M: string (nullable = true)\n",
            " |-- Image-URL-L: string (nullable = true)\n",
            "\n"
          ]
        }
      ],
      "source": [
        "Dim_Books.printSchema()"
      ]
    },
    {
      "cell_type": "code",
      "source": [
        "Dim_Books.count()"
      ],
      "metadata": {
        "colab": {
          "base_uri": "https://localhost:8080/"
        },
        "id": "R8nHFlcqPJ6y",
        "outputId": "42bc8929-cee1-4b7b-a302-80d9fc075f68"
      },
      "execution_count": null,
      "outputs": [
        {
          "output_type": "execute_result",
          "data": {
            "text/plain": [
              "271379"
            ]
          },
          "metadata": {},
          "execution_count": 43
        }
      ]
    },
    {
      "cell_type": "code",
      "source": [
        "Dim_Books = Dim_Books.withColumnRenamed('Book-Title', 'BookTitle')\n",
        "Dim_Books = Dim_Books.withColumnRenamed('Book-Author', 'BookAuthor')\n",
        "Dim_Books = Dim_Books.withColumnRenamed('Year-Of-Publication', 'YearOfPublication')"
      ],
      "metadata": {
        "id": "gFmWs_BvP0qN"
      },
      "execution_count": null,
      "outputs": []
    },
    {
      "cell_type": "markdown",
      "source": [
        "Dropping irrelevant columns for analysis"
      ],
      "metadata": {
        "id": "1dgIOlCKFZJz"
      }
    },
    {
      "cell_type": "code",
      "execution_count": null,
      "metadata": {
        "id": "g2XnR5r-K9Sk"
      },
      "outputs": [],
      "source": [
        "Dim_Books = Dim_Books.drop('Image-URL-S','Image-URL-M','Image-URL-L')"
      ]
    },
    {
      "cell_type": "markdown",
      "source": [
        "Converting dataframe columns to lowercase"
      ],
      "metadata": {
        "id": "JwjaPgmbKgfe"
      }
    },
    {
      "cell_type": "code",
      "source": [
        "for c in Dim_Books.columns:\n",
        "  Dim_Books = Dim_Books.select(\"*\", f.lower(Dim_Books[c]))\n",
        "  Dim_Books = Dim_Books.drop(c)\n",
        "  Dim_Books = Dim_Books.withColumnRenamed('lower('+c+')', c)"
      ],
      "metadata": {
        "id": "My-pIuk1Gn83"
      },
      "execution_count": null,
      "outputs": []
    },
    {
      "cell_type": "markdown",
      "source": [
        "Converting datatype to the Year-Of-Publication column, since it was changed when we converted to lowercase"
      ],
      "metadata": {
        "id": "GxA5IPieLELk"
      }
    },
    {
      "cell_type": "code",
      "source": [
        "Dim_Books = Dim_Books.withColumn('YearOfPublication', Dim_Books['YearOfPublication'].cast(IntegerType()))"
      ],
      "metadata": {
        "id": "-wav8Mm4HGWq"
      },
      "execution_count": null,
      "outputs": []
    },
    {
      "cell_type": "markdown",
      "source": [
        "Cleaning punctuation in columns with a string datatype (excluding ISBN)"
      ],
      "metadata": {
        "id": "r4ehW-QvLABj"
      }
    },
    {
      "cell_type": "code",
      "execution_count": null,
      "metadata": {
        "id": "504_0_z2mMuh"
      },
      "outputs": [],
      "source": [
        "punc_regex = '''(^ |\\!|\\(|\\)|-|\\[|\\]|\\{|\\}|;|:|,|'|\"|\\<|\\>|\\.|\\/|\\?|@|�|#|\\$|%|\\^|\\&|\\*|_|~|\\d| $)'''\n",
        "\n",
        "Dim_Books=Dim_Books.withColumn('BookTitle', f.regexp_replace('BookTitle', punc_regex, ''))\n",
        "Dim_Books=Dim_Books.withColumn('BookAuthor', f.regexp_replace('BookAuthor', punc_regex, ''))\n",
        "Dim_Books=Dim_Books.withColumn('Publisher', f.regexp_replace('Publisher', punc_regex, ''))"
      ]
    },
    {
      "cell_type": "code",
      "execution_count": null,
      "metadata": {
        "colab": {
          "base_uri": "https://localhost:8080/"
        },
        "id": "LrjcYgiJmMpt",
        "outputId": "827b8c82-0204-4758-b596-c928ce79ac6f"
      },
      "outputs": [
        {
          "output_type": "stream",
          "name": "stdout",
          "text": [
            "+----------+--------------------+--------------------+-----------------+--------------------+\n",
            "|      ISBN|           BookTitle|          BookAuthor|YearOfPublication|           Publisher|\n",
            "+----------+--------------------+--------------------+-----------------+--------------------+\n",
            "|0195153448| classical mythology|    mark p o morford|             2002|oxford university...|\n",
            "|0002005018|        clara callan|richard bruce wright|             2001|harperflamingo ca...|\n",
            "|0060973129|decision in normandy|         carlo deste|             1991|     harperperennial|\n",
            "|0374157065|flu the story of ...|    gina bari kolata|             1999|farrar straus giroux|\n",
            "|0393045218|the mummies of ur...|        e j w barber|             1999|w w norton amp co...|\n",
            "|0399135782|the kitchen gods ...|             amy tan|             1991|    putnam pub group|\n",
            "|0425176428|what if the world...|       robert cowley|             2000|berkley publishin...|\n",
            "|0671870432|     pleading guilty|         scott turow|             1993|          audioworks|\n",
            "|0679425608|under the black f...|     david cordingly|             1996|        random house|\n",
            "|074322678x|where youll find ...|         ann beattie|             2002|            scribner|\n",
            "|0771074670|nights below stat...|david adams richards|             1988|     emblem editions|\n",
            "|080652121x|hitlers secret ba...|          adam lebor|             2000|       citadel press|\n",
            "|0887841740|  the middle stories|         sheila heti|             2004|house of anansi p...|\n",
            "|1552041778|            jane doe|          r j kaiser|             1999|          mira books|\n",
            "|1558746218|a second chicken ...|       jack canfield|             1998|health communicat...|\n",
            "|1567407781|the witchfinder a...|    loren d estleman|             1998|brilliance audio ...|\n",
            "|1575663937|more cunning than...|  robert hendrickson|             1999|kensington publis...|\n",
            "|1881320189|goodbye to the bu...|        julia oliver|             1994|      river city pub|\n",
            "|0440234743|       the testament|        john grisham|             1999|                dell|\n",
            "|0452264464|beloved plume con...|       toni morrison|             1994|               plume|\n",
            "+----------+--------------------+--------------------+-----------------+--------------------+\n",
            "only showing top 20 rows\n",
            "\n"
          ]
        }
      ],
      "source": [
        "Dim_Books.show()"
      ]
    },
    {
      "cell_type": "markdown",
      "source": [
        "Finding cells with a null value and empty  cells"
      ],
      "metadata": {
        "id": "QbgltUu_GNuN"
      }
    },
    {
      "cell_type": "code",
      "execution_count": null,
      "metadata": {
        "colab": {
          "base_uri": "https://localhost:8080/"
        },
        "id": "qFOfCs3OmMsH",
        "outputId": "4963877a-8b9d-4a0e-8c29-cc907c5888c5"
      },
      "outputs": [
        {
          "output_type": "stream",
          "name": "stdout",
          "text": [
            "+----+---------+----------+-----------------+---------+\n",
            "|ISBN|BookTitle|BookAuthor|YearOfPublication|Publisher|\n",
            "+----+---------+----------+-----------------+---------+\n",
            "|   0|       50|         0|                0|       56|\n",
            "+----+---------+----------+-----------------+---------+\n",
            "\n"
          ]
        }
      ],
      "source": [
        "Dim_Books.select([f.count(f.when(f.col(c).contains('None') |\\\n",
        "                                 f.col(c).contains('NULL') | \\\n",
        "                                 (f.col(c) == '' ) | \\\n",
        "                                 (f.col(c) == ' ' ) | \\\n",
        "                                 f.col(c).isNull() | \\\n",
        "                                 f.isnan(c), c)).alias(c) for c in Dim_Books.columns]).show()"
      ]
    },
    {
      "cell_type": "markdown",
      "source": [
        "Book-Title column - handling with empty cells"
      ],
      "metadata": {
        "id": "NXHt8Y4nbUCK"
      }
    },
    {
      "cell_type": "code",
      "source": [
        "Dim_Books = Dim_Books.withColumn(\"BookTitle\",f.when((Dim_Books[\"BookTitle\"] == '')|(Dim_Books[\"BookTitle\"] == ' '),'unknown').otherwise(f.col(\"BookTitle\")))\n",
        "\n",
        "Dim_Books.filter(Dim_Books['BookTitle'].like (\"\")|Dim_Books[\"BookTitle\"].like (' ')).count()"
      ],
      "metadata": {
        "colab": {
          "base_uri": "https://localhost:8080/"
        },
        "id": "DUNAPW9tbzWN",
        "outputId": "0f4196eb-259d-41b6-a301-fd5ec3b9b77d"
      },
      "execution_count": null,
      "outputs": [
        {
          "output_type": "execute_result",
          "data": {
            "text/plain": [
              "0"
            ]
          },
          "metadata": {},
          "execution_count": 53
        }
      ]
    },
    {
      "cell_type": "markdown",
      "source": [
        "Publisher column - handling with empty cells"
      ],
      "metadata": {
        "id": "XJ69jhgBds7s"
      }
    },
    {
      "cell_type": "code",
      "source": [
        "Dim_Books = Dim_Books.withColumn(\"Publisher\",f.when((Dim_Books[\"Publisher\"] == '')|(Dim_Books[\"Publisher\"] == ' '),'unknown').otherwise(f.col(\"Publisher\")))\n",
        "\n",
        "Dim_Books.filter(Dim_Books['Publisher'].like (\"\")|Dim_Books[\"Publisher\"].like(' ')).count()"
      ],
      "metadata": {
        "colab": {
          "base_uri": "https://localhost:8080/"
        },
        "id": "JTDqY0MId2ZN",
        "outputId": "7e517872-6a57-4bc5-c726-6ed98b8117ee"
      },
      "execution_count": null,
      "outputs": [
        {
          "output_type": "execute_result",
          "data": {
            "text/plain": [
              "0"
            ]
          },
          "metadata": {},
          "execution_count": 54
        }
      ]
    },
    {
      "cell_type": "markdown",
      "source": [
        "Year-Of-Publication - handling unusable values for analysis"
      ],
      "metadata": {
        "id": "XZmGzBaNNH8X"
      }
    },
    {
      "cell_type": "code",
      "source": [
        "Dim_Books.describe([\"YearOfPublication\"]).show()"
      ],
      "metadata": {
        "colab": {
          "base_uri": "https://localhost:8080/"
        },
        "id": "ZhnwKkT5RMR5",
        "outputId": "850a0576-3469-43c6-ff0d-13994a89d9b1"
      },
      "execution_count": null,
      "outputs": [
        {
          "output_type": "stream",
          "name": "stdout",
          "text": [
            "+-------+------------------+\n",
            "|summary| YearOfPublication|\n",
            "+-------+------------------+\n",
            "|  count|            271379|\n",
            "|   mean|1959.7560496574902|\n",
            "| stddev| 258.0113625638109|\n",
            "|    min|                 0|\n",
            "|    max|              2050|\n",
            "+-------+------------------+\n",
            "\n"
          ]
        }
      ]
    },
    {
      "cell_type": "markdown",
      "source": [
        "Transforming the Year-Of-Publication column's unusable values"
      ],
      "metadata": {
        "id": "52kgwmz9M21q"
      }
    },
    {
      "cell_type": "code",
      "execution_count": null,
      "metadata": {
        "id": "bRQdZtitmM2V"
      },
      "outputs": [],
      "source": [
        "Dim_Books = Dim_Books.withColumn('YearOfPublication', f.when((Dim_Books['YearOfPublication'] > 2022)|(Dim_Books['YearOfPublication']==0),1900).otherwise(Dim_Books['YearOfPublication']))"
      ]
    },
    {
      "cell_type": "code",
      "execution_count": null,
      "metadata": {
        "id": "o7Wsfm7mmNIG",
        "colab": {
          "base_uri": "https://localhost:8080/"
        },
        "outputId": "c3afd162-b473-4e4e-fcd9-047573185397"
      },
      "outputs": [
        {
          "output_type": "stream",
          "name": "stdout",
          "text": [
            "+----------+--------------------+--------------------+-----------------+--------------------+\n",
            "|      ISBN|           BookTitle|          BookAuthor|YearOfPublication|           Publisher|\n",
            "+----------+--------------------+--------------------+-----------------+--------------------+\n",
            "|0195153448| classical mythology|    mark p o morford|             2002|oxford university...|\n",
            "|0002005018|        clara callan|richard bruce wright|             2001|harperflamingo ca...|\n",
            "|0060973129|decision in normandy|         carlo deste|             1991|     harperperennial|\n",
            "|0374157065|flu the story of ...|    gina bari kolata|             1999|farrar straus giroux|\n",
            "|0393045218|the mummies of ur...|        e j w barber|             1999|w w norton amp co...|\n",
            "|0399135782|the kitchen gods ...|             amy tan|             1991|    putnam pub group|\n",
            "|0425176428|what if the world...|       robert cowley|             2000|berkley publishin...|\n",
            "|0671870432|     pleading guilty|         scott turow|             1993|          audioworks|\n",
            "|0679425608|under the black f...|     david cordingly|             1996|        random house|\n",
            "|074322678x|where youll find ...|         ann beattie|             2002|            scribner|\n",
            "|0771074670|nights below stat...|david adams richards|             1988|     emblem editions|\n",
            "|080652121x|hitlers secret ba...|          adam lebor|             2000|       citadel press|\n",
            "|0887841740|  the middle stories|         sheila heti|             2004|house of anansi p...|\n",
            "|1552041778|            jane doe|          r j kaiser|             1999|          mira books|\n",
            "|1558746218|a second chicken ...|       jack canfield|             1998|health communicat...|\n",
            "|1567407781|the witchfinder a...|    loren d estleman|             1998|brilliance audio ...|\n",
            "|1575663937|more cunning than...|  robert hendrickson|             1999|kensington publis...|\n",
            "|1881320189|goodbye to the bu...|        julia oliver|             1994|      river city pub|\n",
            "|0440234743|       the testament|        john grisham|             1999|                dell|\n",
            "|0452264464|beloved plume con...|       toni morrison|             1994|               plume|\n",
            "+----------+--------------------+--------------------+-----------------+--------------------+\n",
            "only showing top 20 rows\n",
            "\n"
          ]
        }
      ],
      "source": [
        "Dim_Books.show()"
      ]
    },
    {
      "cell_type": "markdown",
      "source": [
        "Checking duplicates"
      ],
      "metadata": {
        "id": "0_DSs4wEShZO"
      }
    },
    {
      "cell_type": "code",
      "source": [
        "dup = Dim_Books.join(\n",
        "    Dim_Books.groupBy(Dim_Books.columns).agg((f.count(\"*\")>1).cast(IntegerType()).alias(\"Duplicate_indicator\")),\n",
        "    on=Dim_Books.columns,\n",
        "    how=\"inner\")\n",
        "\n",
        "dup.select(f.sum(\"Duplicate_indicator\")).show()"
      ],
      "metadata": {
        "colab": {
          "base_uri": "https://localhost:8080/"
        },
        "id": "bLmHgc5aSkr7",
        "outputId": "a3ac2bb2-3377-40d1-c90b-37437fc97682"
      },
      "execution_count": null,
      "outputs": [
        {
          "output_type": "stream",
          "name": "stdout",
          "text": [
            "+------------------------+\n",
            "|sum(Duplicate_indicator)|\n",
            "+------------------------+\n",
            "|                     626|\n",
            "+------------------------+\n",
            "\n"
          ]
        }
      ]
    },
    {
      "cell_type": "code",
      "source": [
        "Dim_Books=Dim_Books.join(\n",
        "    Dim_Books.groupBy(Dim_Books.columns).agg((f.count(\"*\")>1).cast(IntegerType()).alias(\"Duplicate_indicator\")),\n",
        "    on=Dim_Books.columns,\n",
        "    how=\"inner\")\n",
        "\n",
        "#Dim_Books=Dim_Books.filter(Dim_Books['Duplicate_indicator']==0)"
      ],
      "metadata": {
        "id": "XZFG3KR9TfNI"
      },
      "execution_count": null,
      "outputs": []
    },
    {
      "cell_type": "code",
      "source": [
        ""
      ],
      "metadata": {
        "id": "195qTXfDW8Xv"
      },
      "execution_count": null,
      "outputs": []
    },
    {
      "cell_type": "code",
      "source": [
        "Dim_Books.filter(Dim_Books['Duplicate_indicator']==1).count()"
      ],
      "metadata": {
        "colab": {
          "base_uri": "https://localhost:8080/"
        },
        "id": "oVlwLLCUV4VW",
        "outputId": "eb6f377c-ccf3-4841-8ad5-a9ce21c978c0"
      },
      "execution_count": null,
      "outputs": [
        {
          "output_type": "execute_result",
          "data": {
            "text/plain": [
              "626"
            ]
          },
          "metadata": {},
          "execution_count": 63
        }
      ]
    },
    {
      "cell_type": "code",
      "source": [
        "Dim_Books.filter(Dim_Books['Duplicate_indicator']==0).count()"
      ],
      "metadata": {
        "id": "7ijkGrluW2Ga"
      },
      "execution_count": null,
      "outputs": []
    },
    {
      "cell_type": "markdown",
      "metadata": {
        "id": "Rgb65VpPmNTL"
      },
      "source": [
        "**Fact_Ratings**"
      ]
    },
    {
      "cell_type": "code",
      "execution_count": null,
      "metadata": {
        "id": "Y9EYVsPOmb4w",
        "colab": {
          "base_uri": "https://localhost:8080/"
        },
        "outputId": "5907b077-ec12-4372-da5c-c72c2166dbda"
      },
      "outputs": [
        {
          "output_type": "stream",
          "name": "stdout",
          "text": [
            "root\n",
            " |-- User-ID: string (nullable = true)\n",
            " |-- ISBN: string (nullable = true)\n",
            " |-- Book-Rating: string (nullable = true)\n",
            "\n"
          ]
        }
      ],
      "source": [
        "Fact_Ratings.printSchema()"
      ]
    },
    {
      "cell_type": "code",
      "source": [
        "Fact_Ratings = Fact_Ratings.withColumn('Book-Rating', Fact_Ratings['Book-Rating'].cast(IntegerType()))"
      ],
      "metadata": {
        "id": "gsJqZcXRIayt"
      },
      "execution_count": null,
      "outputs": []
    },
    {
      "cell_type": "code",
      "execution_count": null,
      "metadata": {
        "id": "skCcyMmrmb7h",
        "colab": {
          "base_uri": "https://localhost:8080/"
        },
        "outputId": "697a13bc-064c-4252-c27a-4f0147337a0d"
      },
      "outputs": [
        {
          "output_type": "execute_result",
          "data": {
            "text/plain": [
              "1048575"
            ]
          },
          "metadata": {},
          "execution_count": 43
        }
      ],
      "source": [
        "Fact_Ratings.count()"
      ]
    },
    {
      "cell_type": "code",
      "execution_count": null,
      "metadata": {
        "id": "Mi2Au9irmb-Z",
        "colab": {
          "base_uri": "https://localhost:8080/"
        },
        "outputId": "679fb1ea-b29f-4c16-c29b-411ecde4096a"
      },
      "outputs": [
        {
          "output_type": "stream",
          "name": "stdout",
          "text": [
            "+-------+----------+-----------+\n",
            "|User-ID|      ISBN|Book-Rating|\n",
            "+-------+----------+-----------+\n",
            "| 276725|034545104X|          0|\n",
            "| 276726|0155061224|          5|\n",
            "| 276727|0446520802|          0|\n",
            "| 276729|052165615X|          3|\n",
            "| 276729|0521795028|          6|\n",
            "| 276733|2080674722|          0|\n",
            "| 276736|3257224281|          8|\n",
            "| 276737|0600570967|          6|\n",
            "| 276744|038550120X|          7|\n",
            "| 276745| 342310538|         10|\n",
            "| 276746|0425115801|          0|\n",
            "| 276746|0449006522|          0|\n",
            "| 276746|0553561618|          0|\n",
            "| 276746|055356451X|          0|\n",
            "| 276746|0786013990|          0|\n",
            "| 276746|0786014512|          0|\n",
            "| 276747|0060517794|          9|\n",
            "| 276747|0451192001|          0|\n",
            "| 276747|0609801279|          0|\n",
            "| 276747|0671537458|          9|\n",
            "+-------+----------+-----------+\n",
            "only showing top 20 rows\n",
            "\n"
          ]
        }
      ],
      "source": [
        "Fact_Ratings.show()"
      ]
    },
    {
      "cell_type": "markdown",
      "source": [
        "Finding cells with a null value"
      ],
      "metadata": {
        "id": "uLjx3mZjm8M-"
      }
    },
    {
      "cell_type": "code",
      "execution_count": null,
      "metadata": {
        "id": "HWYz7sh2mcBQ",
        "colab": {
          "base_uri": "https://localhost:8080/"
        },
        "outputId": "a37ec38b-3224-4936-db8f-f44782ea33f3"
      },
      "outputs": [
        {
          "output_type": "stream",
          "name": "stdout",
          "text": [
            "+-------+----+-----------+\n",
            "|User-ID|ISBN|Book-Rating|\n",
            "+-------+----+-----------+\n",
            "|      0|   0|          0|\n",
            "+-------+----+-----------+\n",
            "\n"
          ]
        }
      ],
      "source": [
        "Fact_Ratings.select([f.count(f.when(Fact_Ratings[c].isNull() , c)).alias(c) for c in Fact_Ratings.columns]).show()"
      ]
    },
    {
      "cell_type": "markdown",
      "source": [
        "Finding empty cells"
      ],
      "metadata": {
        "id": "i_lwee59nLkH"
      }
    },
    {
      "cell_type": "code",
      "execution_count": null,
      "metadata": {
        "id": "EHb7HUU3mcEB",
        "colab": {
          "base_uri": "https://localhost:8080/"
        },
        "outputId": "c3e4ea5a-11da-4670-b392-576eafe165bb"
      },
      "outputs": [
        {
          "output_type": "stream",
          "name": "stdout",
          "text": [
            "User-ID 0\n",
            "ISBN 0\n",
            "Book-Rating 0\n"
          ]
        }
      ],
      "source": [
        "for c in Fact_Ratings.columns:\n",
        "  EC=Fact_Ratings.filter(Fact_Ratings[c].like (\"\")).count()\n",
        "  print(c + ' ' + str(EC))"
      ]
    },
    {
      "cell_type": "markdown",
      "source": [
        "##**Top ten Books**\n",
        "(not including books that rated below 10 times)"
      ],
      "metadata": {
        "id": "yuOFxJdIS6l2"
      }
    },
    {
      "cell_type": "code",
      "source": [
        "#creating BookNames dict\n",
        "BookNames = {row['ISBN']:row['Book-Title'] for row in Dim_Books.collect()}"
      ],
      "metadata": {
        "id": "CxNgta7YQFQq"
      },
      "execution_count": null,
      "outputs": []
    },
    {
      "cell_type": "code",
      "source": [
        "# Creating 2 Lists from \"BookNames\" Dictionary\n",
        "a = list(BookNames.keys())\n",
        "b = list(BookNames.values())\n",
        "\n",
        "# Creating one list of tuples from a,b lists\n",
        "listOfTuples =  list(zip(a,b))\n",
        "\n",
        "\n",
        "# Creating a list to help define the columns\n",
        "columns = ['ISBN', 'Book-Title']\n",
        "\n",
        "# Creating dataframe\n",
        "df_BookNames = spark.createDataFrame(listOfTuples,columns)\n",
        "df_BookNames.show()"
      ],
      "metadata": {
        "colab": {
          "base_uri": "https://localhost:8080/"
        },
        "id": "uMQX2y-_M-nm",
        "outputId": "21d7feab-8a68-4f01-d6ec-9b7220ce3dcb"
      },
      "execution_count": null,
      "outputs": [
        {
          "output_type": "stream",
          "name": "stdout",
          "text": [
            "+----------+--------------------+\n",
            "|      ISBN|          Book-Title|\n",
            "+----------+--------------------+\n",
            "|0195153448| classical mythology|\n",
            "|0002005018|        clara callan|\n",
            "|0060973129|decision in normandy|\n",
            "|0374157065|flu the story of ...|\n",
            "|0393045218|the mummies of ur...|\n",
            "|0399135782|the kitchen gods ...|\n",
            "|0425176428|what if the world...|\n",
            "|0671870432|     pleading guilty|\n",
            "|0679425608|under the black f...|\n",
            "|074322678x|where youll find ...|\n",
            "|0771074670|nights below stat...|\n",
            "|080652121x|hitlers secret ba...|\n",
            "|0887841740|  the middle stories|\n",
            "|1552041778|            jane doe|\n",
            "|1558746218|a second chicken ...|\n",
            "|1567407781|the witchfinder a...|\n",
            "|1575663937|more cunning than...|\n",
            "|1881320189|goodbye to the bu...|\n",
            "|0440234743|       the testament|\n",
            "|0452264464|beloved plume con...|\n",
            "+----------+--------------------+\n",
            "only showing top 20 rows\n",
            "\n"
          ]
        }
      ]
    },
    {
      "cell_type": "code",
      "source": [
        "# Computing average rating for each ISBN(Book ID)\n",
        "averageRatings = Fact_Ratings.groupBy('ISBN').avg('Book-Rating')\n",
        "\n",
        "# Computing count of ratings for each ISBN\n",
        "counts = Fact_Ratings.groupBy('ISBN').count()\n",
        "\n",
        "# Join the two together\n",
        "averagesAndCounts = counts.join(averageRatings, 'ISBN')\n",
        "\n",
        "# Filtering books rated 10 or fewer times \n",
        "popularAveragesAndCounts = averagesAndCounts.filter('count > 10')\n",
        "\n",
        "# Join the results with book names, with ratings desc\n",
        "BooksAvgRatings = popularAveragesAndCounts.join(df_BookNames,'ISBN').orderBy(popularAveragesAndCounts['avg(Book-Rating)'].desc())\n",
        "\n",
        "BooksAvgRatings.show(10)"
      ],
      "metadata": {
        "colab": {
          "base_uri": "https://localhost:8080/"
        },
        "id": "pGEGEQTt7e5n",
        "outputId": "c8bebbfd-d3a8-4afd-d34a-8808cd8b7a2a"
      },
      "execution_count": null,
      "outputs": [
        {
          "output_type": "stream",
          "name": "stdout",
          "text": [
            "+----------+-----+-----------------+--------------------+\n",
            "|      ISBN|count| avg(Book-Rating)|          Book-Title|\n",
            "+----------+-----+-----------------+--------------------+\n",
            "|0091842050|   11|9.181818181818182|the blue day book...|\n",
            "|0316779059|   11|9.090909090909092|the baby book eve...|\n",
            "|8478886451|   13|8.384615384615385|harry potter y el...|\n",
            "|0836213122|   16|            8.375|theres treasure e...|\n",
            "|0394823370|   12|8.166666666666666|           the lorax|\n",
            "|0060294698|   14|8.142857142857142|    allamerican girl|\n",
            "|1577780728|   14|8.071428571428571|jesus freaks dc t...|\n",
            "|0615116426|   15|8.066666666666666|marching through ...|\n",
            "|3551551936|   11|              8.0|harry potter und ...|\n",
            "|1844262553|   49|7.979591836734694|                free|\n",
            "+----------+-----+-----------------+--------------------+\n",
            "only showing top 10 rows\n",
            "\n"
          ]
        }
      ]
    },
    {
      "cell_type": "markdown",
      "source": [
        "###**Generating CSV files for each dataframe**"
      ],
      "metadata": {
        "id": "Db6JrY8bEdWl"
      }
    },
    {
      "cell_type": "markdown",
      "source": [
        "Deleting any files in the \"folderPath\" to ensure the folder is empty"
      ],
      "metadata": {
        "id": "9ecbmW2YCpVJ"
      }
    },
    {
      "cell_type": "code",
      "source": [
        "#creating a new folder for tables files\n",
        "folderPath = '/content/drive/MyDrive/TCBDA/Big Data/Big Data Project/results'"
      ],
      "metadata": {
        "id": "Q4ATk4WD7fAW"
      },
      "execution_count": null,
      "outputs": []
    },
    {
      "cell_type": "code",
      "source": [
        "import os\n",
        "import glob\n",
        "\n",
        "filesInFolder = folderPath + '/*.*'\n",
        "\n",
        "fileList = glob.glob(filesInFolder)\n",
        "\n",
        "for filePath in fileList:\n",
        "    try:\n",
        "        os.remove(filePath)\n",
        "    except:\n",
        "        print(\"Error while deleting file : \", filePath)\n",
        "\n",
        "\n",
        "fileList = glob.glob(filesInFolder)"
      ],
      "metadata": {
        "id": "jWq6qJgo7fFZ"
      },
      "execution_count": null,
      "outputs": []
    },
    {
      "cell_type": "code",
      "source": [
        "Fact_Ratings.coalesce(1).write.mode(\"append\").option(\"header\", \"true\").csv(folderPath)\n",
        "Dim_Users.coalesce(1).write.mode(\"append\").option(\"header\", \"true\").csv(folderPath)\n",
        "Dim_Books.coalesce(1).write.mode(\"append\").option(\"header\", \"true\").csv(folderPath)\n",
        "BooksAvgRatings.coalesce(1).write.mode(\"append\").option(\"header\", \"true\").csv(folderPath)"
      ],
      "metadata": {
        "id": "kpAlThWj7fMS"
      },
      "execution_count": null,
      "outputs": []
    },
    {
      "cell_type": "code",
      "execution_count": null,
      "metadata": {
        "id": "gZlBmnhcmccS"
      },
      "outputs": [],
      "source": [
        ""
      ]
    },
    {
      "cell_type": "code",
      "execution_count": null,
      "metadata": {
        "id": "oCohoC1XhloA"
      },
      "outputs": [],
      "source": [
        "#spark.stop()"
      ]
    }
  ],
  "metadata": {
    "colab": {
      "collapsed_sections": [],
      "name": "Books_Project.ipynb",
      "provenance": []
    },
    "kernelspec": {
      "display_name": "Python 3",
      "name": "python3"
    },
    "language_info": {
      "name": "python"
    }
  },
  "nbformat": 4,
  "nbformat_minor": 0
}